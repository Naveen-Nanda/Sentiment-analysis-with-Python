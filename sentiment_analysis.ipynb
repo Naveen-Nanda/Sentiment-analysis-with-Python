{
 "cells": [
  {
   "cell_type": "code",
   "execution_count": 2,
   "metadata": {},
   "outputs": [],
   "source": [
    "import nltk.classify.util\n",
    "from nltk.classify import NaiveBayesClassifier\n",
    "from nltk.corpus import movie_reviews"
   ]
  },
  {
   "cell_type": "code",
   "execution_count": 4,
   "metadata": {},
   "outputs": [],
   "source": [
    "def extract_features(word_list):\n",
    "    return dict([(word, True) for word in word_list])"
   ]
  },
  {
   "cell_type": "code",
   "execution_count": 8,
   "metadata": {},
   "outputs": [],
   "source": [
    "if __name__=='__main__':\n",
    "    #Load positive and negative reviews\n",
    "    positive_fileids = movie_reviews.fileids('pos')\n",
    "    negative_fileids = movie_reviews.fileids('neg')"
   ]
  },
  {
   "cell_type": "code",
   "execution_count": 10,
   "metadata": {},
   "outputs": [],
   "source": [
    "features_positive = [(extract_features(movie_reviews.words(fileids=[f])),'Positive') for f in positive_fileids]\n",
    "features_negative = [(extract_features(movie_reviews.words(fileids=[f])),'Negative') for f in negative_fileids]"
   ]
  },
  {
   "cell_type": "code",
   "execution_count": 11,
   "metadata": {},
   "outputs": [],
   "source": [
    "# Split the data into train and test (80/20)\n",
    "threshold_factor = 0.8\n",
    "threshold_positive = int(threshold_factor * len(features_positive))\n",
    "threshold_negative = int(threshold_factor * len(features_negative))"
   ]
  },
  {
   "cell_type": "code",
   "execution_count": 15,
   "metadata": {},
   "outputs": [
    {
     "name": "stdout",
     "output_type": "stream",
     "text": [
      "Number of training datapoints:  1600\n",
      "Number of test datapoints:  400\n"
     ]
    }
   ],
   "source": [
    "features_train = features_positive[:threshold_positive]+features_negative[:threshold_negative]\n",
    "features_test = features_positive[threshold_positive:]+features_negative[threshold_negative:]\n",
    "\n",
    "print(\"Number of training datapoints: \", len(features_train))\n",
    "print(\"Number of test datapoints: \", len(features_test)) "
   ]
  },
  {
   "cell_type": "code",
   "execution_count": 16,
   "metadata": {
    "scrolled": true
   },
   "outputs": [
    {
     "name": "stdout",
     "output_type": "stream",
     "text": [
      "Accuracy of the classifier:  0.735\n"
     ]
    }
   ],
   "source": [
    "classifier = NaiveBayesClassifier.train(features_train)\n",
    "print(\"Accuracy of the classifier: \", nltk.classify.util.accuracy(classifier, features_test))"
   ]
  },
  {
   "cell_type": "code",
   "execution_count": 18,
   "metadata": {},
   "outputs": [
    {
     "name": "stdout",
     "output_type": "stream",
     "text": [
      "Top ten most informative words: \n",
      "outstanding\n",
      "insulting\n",
      "vulnerable\n",
      "ludicrous\n",
      "uninvolving\n",
      "avoids\n",
      "astounding\n",
      "fascination\n",
      "affecting\n",
      "darker\n"
     ]
    }
   ],
   "source": [
    "print(\"Top ten most informative words: \")\n",
    "\n",
    "for item in classifier.most_informative_features()[:10]:\n",
    "    print(item[0])"
   ]
  },
  {
   "cell_type": "code",
   "execution_count": 31,
   "metadata": {},
   "outputs": [],
   "source": [
    "#Sample input reviews\n",
    "input_reviews = [\n",
    "    \"Started off as the greatest series of all time, but had the worst ending of all time.\",\n",
    "    \"Exquisite. 'Big Little Lies' takes us to an incredible journey with its emotional and intriguing storyline.\",\n",
    "    \"I love Brooklyn 99 so much. It has the best crew ever!!\",\n",
    "    \"The Big Bang Theory and to me it's one of the best written sitcoms currently on network TV.\",\n",
    "    \"'Friends' is simply the best series ever aired. The acting is amazing.\",\n",
    "    \"SUITS is smart, sassy, clever, sophisticated, timely and immensely entertaining!\",\n",
    "    \"Cumberbatch is a fantastic choice for Sherlock Holmes-he is physically right (he fits the traditional reading of the character) and he is a damn good actor\",\n",
    "    \"What sounds like a typical agent hunting serial killer, surprises with great characters, surprising turning points and amazing cast.\"\n",
    "    \"This is one of the most magical things I have ever had the fortune of viewing.\",\n",
    "    \"I don't recommend watching this at all!\"\n",
    "]"
   ]
  },
  {
   "cell_type": "code",
   "execution_count": 26,
   "metadata": {},
   "outputs": [
    {
     "name": "stdout",
     "output_type": "stream",
     "text": [
      "Predictions: \n",
      "\n",
      "Review: Started off as the greatest series of all time, but had the worst ending of all time.\n",
      "\n",
      "Review: Exquisite. 'Big Little Lies' takes us to an incredible journey with its emotional and intriguing storyline.\n",
      "\n",
      "Review: I love Brooklyn 99 so much. It is the best crew ever!!\n",
      "\n",
      "Review: The Big Bang Theory and to me it's one of the best written sitcoms currently on network TV.\n",
      "\n",
      "Review: 'Friends' is simply the best series ever aired. The acting is amazing.\n",
      "\n",
      "Review: SUITS is smart, sassy, clever, sophisticated, timely and immensely entertaining!\n",
      "\n",
      "Review: Cumberbatch is a fantastic choice for Sherlock Holmes-he is physically right (he fits the traditional reading of the character) and he is a damn good actor\n",
      "\n",
      "Review: What sounds like a typical agent hunting serial killer, surprises with great characters, surprising turning points and amazing cast.This is one of the most magical things I have ever had the fortune of viewing.\n",
      "\n",
      "Review: Anyway, no reason to devote your time to it, with so many TV shows available the last years, there is no reason to watch this one.\n"
     ]
    }
   ],
   "source": [
    "print(\"Predictions: \")\n",
    "\n",
    "for review in input_reviews:\n",
    "    print(\"\\nReview:\", review)\n",
    "    probdist = classifier.prob_classify(extract_features(review.split()))\n",
    "    pred_sentiment = probdist.max()"
   ]
  },
  {
   "cell_type": "code",
   "execution_count": 32,
   "metadata": {},
   "outputs": [
    {
     "name": "stdout",
     "output_type": "stream",
     "text": [
      "Predictions: \n",
      "\n",
      "Review: Started off as the greatest series of all time, but had the worst ending of all time.\n",
      "Predicted sentiment:  Negative\n",
      "Probability:  0.64\n",
      "\n",
      "Review: Exquisite. 'Big Little Lies' takes us to an incredible journey with its emotional and intriguing storyline.\n",
      "Predicted sentiment:  Positive\n",
      "Probability:  0.89\n",
      "\n",
      "Review: I love Brooklyn 99 so much. It has the best crew ever!!\n",
      "Predicted sentiment:  Negative\n",
      "Probability:  0.51\n",
      "\n",
      "Review: The Big Bang Theory and to me it's one of the best written sitcoms currently on network TV.\n",
      "Predicted sentiment:  Positive\n",
      "Probability:  0.62\n",
      "\n",
      "Review: 'Friends' is simply the best series ever aired. The acting is amazing.\n",
      "Predicted sentiment:  Positive\n",
      "Probability:  0.55\n",
      "\n",
      "Review: SUITS is smart, sassy, clever, sophisticated, timely and immensely entertaining!\n",
      "Predicted sentiment:  Positive\n",
      "Probability:  0.82\n",
      "\n",
      "Review: Cumberbatch is a fantastic choice for Sherlock Holmes-he is physically right (he fits the traditional reading of the character) and he is a damn good actor\n",
      "Predicted sentiment:  Positive\n",
      "Probability:  1.0\n",
      "\n",
      "Review: What sounds like a typical agent hunting serial killer, surprises with great characters, surprising turning points and amazing cast.This is one of the most magical things I have ever had the fortune of viewing.\n",
      "Predicted sentiment:  Positive\n",
      "Probability:  0.95\n",
      "\n",
      "Review: I don't recommend watching this at all!\n",
      "Predicted sentiment:  Negative\n",
      "Probability:  0.53\n"
     ]
    }
   ],
   "source": [
    "print(\"Predictions: \")\n",
    "\n",
    "for review in input_reviews:\n",
    "    print(\"\\nReview:\", review)\n",
    "    probdist = classifier.prob_classify(extract_features(review.split()))\n",
    "    pred_sentiment = probdist.max()\n",
    "    print(\"Predicted sentiment: \", pred_sentiment)\n",
    "    print(\"Probability: \", round(probdist.prob(pred_sentiment), 2))"
   ]
  },
  {
   "cell_type": "code",
   "execution_count": null,
   "metadata": {},
   "outputs": [],
   "source": []
  }
 ],
 "metadata": {
  "kernelspec": {
   "display_name": "Python 3",
   "language": "python",
   "name": "python3"
  },
  "language_info": {
   "codemirror_mode": {
    "name": "ipython",
    "version": 3
   },
   "file_extension": ".py",
   "mimetype": "text/x-python",
   "name": "python",
   "nbconvert_exporter": "python",
   "pygments_lexer": "ipython3",
   "version": "3.7.3"
  }
 },
 "nbformat": 4,
 "nbformat_minor": 2
}
